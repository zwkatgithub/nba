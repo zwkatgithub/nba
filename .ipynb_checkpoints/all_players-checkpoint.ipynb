{
 "cells": [
  {
   "cell_type": "code",
   "execution_count": 1,
   "metadata": {
    "collapsed": true
   },
   "outputs": [],
   "source": [
    "from multiprocessing import Pool\n",
    "from bs4 import BeautifulSoup\n",
    "from selenium import webdriver\n",
    "from selenium.webdriver.chrome.options import Options\n",
    "import json\n",
    "import os\n",
    "\n",
    "chrome_options = Options()\n",
    "chrome_options.add_argument('--headless')\n",
    "baseUrl = \"https://www.basketball-reference.com/players/\"\n",
    "css_selector = \"ul.alphabet.bullets-inline\"\n",
    "\n",
    "def getLink(driver, index):\n",
    "    if chr(index+97) != 'x': \n",
    "        li = driver.find_element_by_css_selector(css_selector).find_elements_by_tag_name('li')[index]\n",
    "        return li.find_element_by_tag_name('a')\n",
    "    return None\n",
    "\n",
    "def spider(index_range):\n",
    "    players = []\n",
    "    index = str(os.getpid())\n",
    "    driver = webdriver.Chrome(chrome_options=chrome_options)\n",
    "    driver.get(baseUrl)\n",
    "    print(index+\" start\")\n",
    "    \n",
    "    for link in index_range:\n",
    "        a = getLink(driver, link)\n",
    "        if a is None:\n",
    "            continue\n",
    "        a.click()\n",
    "        print(index+\" \"+chr(97+link))\n",
    "        table = driver.find_element_by_id('players')\n",
    "        tbody = table.find_element_by_tag_name('tbody')\n",
    "        trs = tbody.find_elements_by_tag_name('tr')\n",
    "        for tr in trs:\n",
    "            tds = tr.find_elements_by_tag_name('td')\n",
    "            player = dict(zip(['From',\"To\",\"Pos\",\"Height\",\"Weight\",\"Birth\",\"College\"],\n",
    "                [td.text for td in tds]))\n",
    "            plink = tr.find_element_by_tag_name('th').find_element_by_tag_name('a')\n",
    "            player['Player'] = plink.text\n",
    "            print(index+\" \"+plink.text)\n",
    "            player['Link'] = plink.get_attribute(\"href\")\n",
    "            players.append(player)\n",
    "        driver.back()\n",
    "    driver.close()\n",
    "    return players\n",
    "   "
   ]
  },
  {
   "cell_type": "code",
   "execution_count": 3,
   "metadata": {},
   "outputs": [
    {
     "name": "stdout",
     "output_type": "stream",
     "text": [
      "Start\n",
      "[[0, 1, 2, 3, 4], [5, 6, 7, 8, 9], [10, 11, 12, 13, 14], [15, 16, 17, 18, 19], [20, 21, 22, 23, 24, 25]]\n",
      "2768 start\n",
      "2769 start\n",
      "2771 start\n",
      "2770 start\n",
      "2767 start\n"
     ]
    }
   ],
   "source": [
    "dataFile = \"./data/all_players\"\n",
    "print(\"Start\")\n",
    "p = Pool(5)\n",
    "index_ranges = [list(range(i,i+5)) for i in range(0,26,5) if i < 25]\n",
    "index_ranges[-1].append(25)\n",
    "result = []\n",
    "print(index_ranges)\n",
    "for i in range(5):\n",
    "    result.append(p.apply_async(spider, args=(index_ranges[i],)))\n",
    "p.close()\n",
    "p.join()"
   ]
  },
  {
   "cell_type": "code",
   "execution_count": null,
   "metadata": {
    "collapsed": true
   },
   "outputs": [],
   "source": [
    "res = []\n",
    "for r in result:\n",
    "    res += r.get()\n",
    "with open(dataFile,'w') as file:\n",
    "    json.dump(res,file) "
   ]
  }
 ],
 "metadata": {
  "kernelspec": {
   "display_name": "Python 3",
   "language": "python",
   "name": "python3"
  },
  "language_info": {
   "codemirror_mode": {
    "name": "ipython",
    "version": 3
   },
   "file_extension": ".py",
   "mimetype": "text/x-python",
   "name": "python",
   "nbconvert_exporter": "python",
   "pygments_lexer": "ipython3",
   "version": "3.6.3"
  }
 },
 "nbformat": 4,
 "nbformat_minor": 2
}
